{
 "cells": [
  {
   "cell_type": "code",
   "execution_count": 2,
   "metadata": {},
   "outputs": [],
   "source": [
    "import os\n",
    "from mlflow import MlflowClient\n",
    "from mlflow.server import get_app_client\n",
    "\n",
    "tracking_uri = \"http://127.0.0.1:32050/\"\n",
    "\n",
    "# ML Flow 사용자를 추가한다.\n",
    "def create_user(admin_id, admin_pwd, user_id, user_pwd) :\n",
    "  os.environ['MLFLOW_TRACKING_USERNAME'] = admin_id\n",
    "  os.environ['MLFLOW_TRACKING_PASSWORD'] = admin_pwd\n",
    "\n",
    "  auth_client = get_app_client(\"basic-auth\", tracking_uri=tracking_uri)\n",
    "  auth_client.create_user(username=user_id, password=user_pwd)\n",
    "\n",
    "# ML Flow 사용자를 삭제한다.\n",
    "def delete_user(admin_id, admin_pwd, user_id) :\n",
    "  os.environ['MLFLOW_TRACKING_USERNAME'] = admin_id\n",
    "  os.environ['MLFLOW_TRACKING_PASSWORD'] = admin_pwd\n",
    "\n",
    "  auth_client = get_app_client(\"basic-auth\", tracking_uri=tracking_uri)\n",
    "  auth_client.delete_user(username=user_id)\n",
    "\n",
    "# ML Flow 사용자에게 Experiment 사용권한 부여한다.\n",
    "def apply_experiment_permission(admin_id, admin_pwd, experiment_name, user_id, permission) :\n",
    "  # Permission      |  Can read | Can update | Can delete | Can manage\n",
    "  # READ               Yes          No           No            No\n",
    "  # EDIT               Yes          Yes          No            No\n",
    "  # MANAGE             Yes          Yes          Yes           Yes\n",
    "  # NO_PERMISSIONS     No           No           No            No\n",
    "  os.environ['MLFLOW_TRACKING_USERNAME'] = admin_id\n",
    "  os.environ['MLFLOW_TRACKING_PASSWORD'] = admin_pwd\n",
    "\n",
    "  client = MlflowClient(tracking_uri=tracking_uri)\n",
    "  auth_client = get_app_client(\"basic-auth\", tracking_uri=tracking_uri)\n",
    "\n",
    "  experiment_details = client.get_experiment_by_name(experiment_name)\n",
    "\n",
    "  if experiment_details :\n",
    "      experiment_id = experiment_details.experiment_id\n",
    "  else :\n",
    "      raise Exception(f'{experiment_name} does not exist.')\n",
    "\n",
    "  auth_client.create_experiment_permission(experiment_id=experiment_id, username=user_id, permission=permission)\n",
    "\n",
    "# ML Flow 사용자에게 Experiment 부여된 사용권한 취소한다.\n",
    "def cancel_experiment_permission(admin_id, admin_pwd, experiment_name, user_id) :\n",
    "  os.environ['MLFLOW_TRACKING_USERNAME'] = admin_id\n",
    "  os.environ['MLFLOW_TRACKING_PASSWORD'] = admin_pwd\n",
    "\n",
    "  client = MlflowClient(tracking_uri=tracking_uri)\n",
    "  auth_client = get_app_client(\"basic-auth\", tracking_uri=tracking_uri)\n",
    "\n",
    "  experiment_details = client.get_experiment_by_name(experiment_name)\n",
    "\n",
    "  if experiment_details :\n",
    "      experiment_id = experiment_details.experiment_id\n",
    "  else :\n",
    "      raise Exception(f'{experiment_name} does not exist.')\n",
    "\n",
    "  auth_client.delete_experiment_permission(experiment_id=experiment_id, username=user_id)\n"
   ]
  },
  {
   "cell_type": "code",
   "execution_count": 3,
   "metadata": {},
   "outputs": [],
   "source": [
    "admin_id = 'admin'\n",
    "admin_pwd = 'admin'\n",
    "\n",
    "create_user(admin_id, admin_pwd, user_id='test1', user_pwd='test1')"
   ]
  }
 ],
 "metadata": {
  "kernelspec": {
   "display_name": ".venv",
   "language": "python",
   "name": "python3"
  },
  "language_info": {
   "codemirror_mode": {
    "name": "ipython",
    "version": 3
   },
   "file_extension": ".py",
   "mimetype": "text/x-python",
   "name": "python",
   "nbconvert_exporter": "python",
   "pygments_lexer": "ipython3",
   "version": "3.9.6"
  }
 },
 "nbformat": 4,
 "nbformat_minor": 2
}
