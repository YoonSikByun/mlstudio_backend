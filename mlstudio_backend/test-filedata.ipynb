{
 "cells": [
  {
   "cell_type": "code",
   "execution_count": 2,
   "metadata": {},
   "outputs": [],
   "source": [
    "import duckdb\n",
    "import hashlib\n",
    "import os\n",
    "import json"
   ]
  },
  {
   "cell_type": "code",
   "execution_count": 3,
   "metadata": {},
   "outputs": [],
   "source": [
    "def getmd5(file_path, blocksize=2**20):\n",
    "    m = hashlib.md5()\n",
    "    with open( os.path.join(file_path) , \"rb\" ) as f:\n",
    "        while True:\n",
    "            buf = f.read(blocksize)\n",
    "            if not buf:\n",
    "                break\n",
    "            m.update( buf )\n",
    "    return m.hexdigest()"
   ]
  },
  {
   "cell_type": "code",
   "execution_count": 4,
   "metadata": {},
   "outputs": [],
   "source": [
    "# filePath = '/Users/yoonsikbyun/Documents/minikube_mnt/mlstudio/interface/sample/total_bank_data.csv'\n",
    "# filePath = '/Users/yoonsikbyun/Documents/minikube_mnt/mlstudio/interface/sample/bank.csv'\n",
    "# parquetFile = '/Users/yoonsikbyun/Documents/minikube_mnt/mlstudio/interface/sample/bank.parquet'\n",
    "# parquetFile = '/Users/yoonsikbyun/Documents/minikube_mnt/mlstudio/interface/sample/total_bank_data.parquet'\n",
    "\n",
    "filePath = 'E:/minikube_mnt/mlstudio/interface/sample/kaggle/total_bank_data.csv'\n",
    "# filePath = 'E:/minikube_mnt/mlstudio/interface/sample/kaggle/bank.csv'\n",
    "# parquetFile = 'E:/minikube_mnt/mlstudio/interface/sample/kaggle/bank.parquet'\n",
    "parquetFile = 'E:/minikube_mnt/mlstudio/interface/sample/kaggle/total_bank_data.parquet'"
   ]
  },
  {
   "cell_type": "code",
   "execution_count": 5,
   "metadata": {},
   "outputs": [],
   "source": [
    "fileName = os.path.basename(filePath)\n",
    "dirName = os.path.dirname(filePath)\n",
    "fileName = os.path.join(dirName, fileName + '.parquet')\n"
   ]
  },
  {
   "cell_type": "code",
   "execution_count": 10,
   "metadata": {},
   "outputs": [],
   "source": [
    "\n",
    "def writeFileMetaInfo(file_path : str, md5 : str = None, summarize : dict = None) :\n",
    "    fileName = os.path.basename(file_path)\n",
    "    fileName, ext = os.path.splitext(fileName)\n",
    "    dirName = os.path.dirname(file_path)\n",
    "    metaFileName = os.path.join(dirName, fileName + '.meta')\n",
    "    metaDict = {}\n",
    "\n",
    "    if os.path.exists(metaFileName):\n",
    "        with open(metaFileName, 'r') as fp :\n",
    "            metaDict = json.load(fp)\n",
    "            metaDict['file_path'] = file_path\n",
    "            metaDict['extension'] = ext\n",
    "\n",
    "    metaDict['file_path'] = file_path\n",
    "    if md5: metaDict['md5'] = md5\n",
    "    if summarize : metaDict['summarize'] = summarize\n",
    "\n",
    "    with open(metaFileName, 'w') as fp:\n",
    "        json.dump(metaDict, fp)\n",
    "\n",
    "\n",
    "def getFileMetaInfo(file_path : str) :\n",
    "    fileName = os.path.basename(file_path)\n",
    "    fileName, _ = os.path.splitext(fileName)\n",
    "    dirName = os.path.dirname(file_path)\n",
    "    metaFileName = os.path.join(dirName, fileName + '.meta')\n",
    "\n",
    "    if os.path.exists(metaFileName):\n",
    "        with open(metaFileName, 'r') as fp :\n",
    "            return json.load(fp)\n",
    "\n",
    "    return None"
   ]
  },
  {
   "cell_type": "code",
   "execution_count": 11,
   "metadata": {},
   "outputs": [
    {
     "name": "stdout",
     "output_type": "stream",
     "text": [
      "0bde8b948ca1e78c31e19900b9729267\n",
      "{'md5': '0bde8b948ca1e78c31e19900b9729267', 'file_path': 'E:/minikube_mnt/mlstudio/interface/sample/kaggle/total_bank_data.csv', 'extension': '.csv'}\n"
     ]
    }
   ],
   "source": [
    "md5 = getmd5(file_path=filePath)\n",
    "print(md5)\n",
    "writeFileMetaInfo(file_path=filePath, md5=md5)\n",
    "rtn = getFileMetaInfo(file_path=filePath)\n",
    "print(rtn)\n",
    "\n"
   ]
  },
  {
   "cell_type": "code",
   "execution_count": 12,
   "metadata": {},
   "outputs": [],
   "source": [
    "def convertCsvIntoParquet(file_path : str) :\n",
    "    fileName = os.path.basename(file_path)\n",
    "    fileName, _ = os.path.splitext(fileName)\n",
    "    dirName = os.path.dirname(file_path)\n",
    "    parquetFile = os.path.join(dirName, fileName + '.parquet')\n",
    "\n",
    "    sql = f\"COPY (SELECT * FROM read_csv('{file_path}',AUTO_DETECT=TRUE)) TO '{parquetFile}' (FORMAT 'PARQUET', CODEC 'ZSTD')\"\n",
    "    duckdb.sql(sql)\n",
    "\n",
    "    md5 = getmd5(file_path=parquetFile)\n",
    "    writeFileMetaInfo(file_path=parquetFile, md5=md5)"
   ]
  },
  {
   "cell_type": "code",
   "execution_count": 14,
   "metadata": {},
   "outputs": [
    {
     "name": "stdout",
     "output_type": "stream",
     "text": [
      "{'md5': '12aea6e5e2d813da5559abed4da5bd35', 'file_path': 'E:/minikube_mnt/mlstudio/interface/sample/kaggle\\\\total_bank_data.parquet', 'extension': '.parquet'}\n"
     ]
    }
   ],
   "source": [
    "convertCsvIntoParquet(file_path=filePath)\n",
    "rtn = getFileMetaInfo(file_path=parquetFile)\n",
    "print(rtn)"
   ]
  },
  {
   "cell_type": "code",
   "execution_count": 57,
   "metadata": {},
   "outputs": [
    {
     "name": "stdout",
     "output_type": "stream",
     "text": [
      "SELECT * FROM read_csv('/Users/yoonsikbyun/Documents/minikube_mnt/mlstudio/interface/sample/total_bank_data.csv') LIMIT 100\n"
     ]
    },
    {
     "data": {
      "text/plain": [
       "┌─────────┬──────────┬─────────┬──────────┬───┬────────────────────┬────────┬───────────┬────────────────────┐\n",
       "│ ABCUBKR │ ABCUOTHR │ ABCXBKR │ ABCXOTHR │ … │        UCR         │ UCSCR  │ UNINCFORR │      VOLIABR       │\n",
       "│ double  │  double  │ double  │  double  │   │       double       │ double │  double   │       double       │\n",
       "├─────────┼──────────┼─────────┼──────────┼───┼────────────────────┼────────┼───────────┼────────────────────┤\n",
       "│     0.0 │      0.0 │     0.0 │      0.0 │ … │  7.938524701350142 │    0.0 │       0.0 │  8.609526048778724 │\n",
       "│     0.0 │      0.0 │     0.0 │      0.0 │ … │ 12.942877100391945 │    0.0 │       0.0 │  7.832570142419186 │\n",
       "│     0.0 │      0.0 │     0.0 │      0.0 │ … │ 10.463096093937216 │    0.0 │       0.0 │  4.849628564581836 │\n",
       "│     0.0 │      0.0 │     0.0 │      0.0 │ … │ 14.322079797797436 │    0.0 │       0.0 │  6.151531564060901 │\n",
       "│     0.0 │      0.0 │     0.0 │      0.0 │ … │ 22.592049158895435 │    0.0 │       0.0 │  5.047434182756467 │\n",
       "│     0.0 │      0.0 │     0.0 │      0.0 │ … │ 13.448743028254167 │    0.0 │       0.0 │  5.319734867908761 │\n",
       "│     0.0 │      0.0 │     0.0 │      0.0 │ … │ 1.5628364087691078 │    0.0 │       0.0 │ 1.2170873491305614 │\n",
       "│     0.0 │      0.0 │     0.0 │      0.0 │ … │  15.08466523480047 │    0.0 │       0.0 │  9.432556543412788 │\n",
       "│     0.0 │      0.0 │     0.0 │      0.0 │ … │  7.493585705726005 │    0.0 │       0.0 │ 2.4896679930556624 │\n",
       "│     0.0 │      0.0 │     0.0 │      0.0 │ … │  3.449272569611716 │    0.0 │       0.0 │ 0.4894498506599865 │\n",
       "│      ·  │       ·  │      ·  │       ·  │ · │          ·         │     ·  │        ·  │          ·         │\n",
       "│      ·  │       ·  │      ·  │       ·  │ · │          ·         │     ·  │        ·  │          ·         │\n",
       "│      ·  │       ·  │      ·  │       ·  │ · │          ·         │     ·  │        ·  │          ·         │\n",
       "│     0.0 │      0.0 │     0.0 │      0.0 │ … │  7.294647026361591 │    0.0 │       0.0 │  6.198582162414569 │\n",
       "│     0.0 │      0.0 │     0.0 │      0.0 │ … │  9.269129542805072 │    0.0 │       0.0 │ 1.9476982442207933 │\n",
       "│     0.0 │      0.0 │     0.0 │      0.0 │ … │ 4.2244359365126565 │    0.0 │       0.0 │  9.896665799353231 │\n",
       "│     0.0 │      0.0 │     0.0 │      0.0 │ … │                0.0 │    0.0 │       0.0 │ 4.5665961945031714 │\n",
       "│     0.0 │      0.0 │     0.0 │      0.0 │ … │  8.034721584707814 │    0.0 │       0.0 │  8.159164397115374 │\n",
       "│     0.0 │      0.0 │     0.0 │      0.0 │ … │ 17.603723376717507 │    0.0 │       0.0 │   4.97313080483335 │\n",
       "│     0.0 │      0.0 │     0.0 │      0.0 │ … │   9.63094550588814 │    0.0 │       0.0 │ 12.771433025842818 │\n",
       "│     0.0 │      0.0 │     0.0 │      0.0 │ … │ 1.8317074882447888 │    0.0 │       0.0 │  4.961751701873816 │\n",
       "│     0.0 │      0.0 │     0.0 │      0.0 │ … │  6.985718907427092 │    0.0 │       0.0 │ 3.8521976244396177 │\n",
       "│     0.0 │      0.0 │     0.0 │      0.0 │ … │ 5.8258436036811805 │    0.0 │       0.0 │ 13.293148915558906 │\n",
       "├─────────┴──────────┴─────────┴──────────┴───┴────────────────────┴────────┴───────────┴────────────────────┤\n",
       "│ 100 rows (20 shown)                                                                  796 columns (8 shown) │\n",
       "└────────────────────────────────────────────────────────────────────────────────────────────────────────────┘"
      ]
     },
     "execution_count": 57,
     "metadata": {},
     "output_type": "execute_result"
    }
   ],
   "source": [
    "sql = f\"SELECT * FROM read_csv('{filePath}') LIMIT 100\"\n",
    "print(sql)\n",
    "duckdb.sql(sql)"
   ]
  },
  {
   "cell_type": "code",
   "execution_count": 58,
   "metadata": {},
   "outputs": [
    {
     "name": "stdout",
     "output_type": "stream",
     "text": [
      "SELECT * FROM read_parquet('/Users/yoonsikbyun/Documents/minikube_mnt/mlstudio/interface/sample/total_bank_data.parquet') LIMIT 100\n"
     ]
    },
    {
     "data": {
      "text/plain": [
       "┌─────────┬──────────┬─────────┬──────────┬───┬────────────────────┬────────┬───────────┬────────────────────┐\n",
       "│ ABCUBKR │ ABCUOTHR │ ABCXBKR │ ABCXOTHR │ … │        UCR         │ UCSCR  │ UNINCFORR │      VOLIABR       │\n",
       "│ double  │  double  │ double  │  double  │   │       double       │ double │  double   │       double       │\n",
       "├─────────┼──────────┼─────────┼──────────┼───┼────────────────────┼────────┼───────────┼────────────────────┤\n",
       "│     0.0 │      0.0 │     0.0 │      0.0 │ … │  7.938524701350142 │    0.0 │       0.0 │  8.609526048778724 │\n",
       "│     0.0 │      0.0 │     0.0 │      0.0 │ … │ 12.942877100391945 │    0.0 │       0.0 │  7.832570142419186 │\n",
       "│     0.0 │      0.0 │     0.0 │      0.0 │ … │ 10.463096093937216 │    0.0 │       0.0 │  4.849628564581836 │\n",
       "│     0.0 │      0.0 │     0.0 │      0.0 │ … │ 14.322079797797436 │    0.0 │       0.0 │  6.151531564060901 │\n",
       "│     0.0 │      0.0 │     0.0 │      0.0 │ … │ 22.592049158895435 │    0.0 │       0.0 │  5.047434182756467 │\n",
       "│     0.0 │      0.0 │     0.0 │      0.0 │ … │ 13.448743028254167 │    0.0 │       0.0 │  5.319734867908761 │\n",
       "│     0.0 │      0.0 │     0.0 │      0.0 │ … │ 1.5628364087691078 │    0.0 │       0.0 │ 1.2170873491305614 │\n",
       "│     0.0 │      0.0 │     0.0 │      0.0 │ … │  15.08466523480047 │    0.0 │       0.0 │  9.432556543412788 │\n",
       "│     0.0 │      0.0 │     0.0 │      0.0 │ … │  7.493585705726005 │    0.0 │       0.0 │ 2.4896679930556624 │\n",
       "│     0.0 │      0.0 │     0.0 │      0.0 │ … │  3.449272569611716 │    0.0 │       0.0 │ 0.4894498506599865 │\n",
       "│      ·  │       ·  │      ·  │       ·  │ · │          ·         │     ·  │        ·  │          ·         │\n",
       "│      ·  │       ·  │      ·  │       ·  │ · │          ·         │     ·  │        ·  │          ·         │\n",
       "│      ·  │       ·  │      ·  │       ·  │ · │          ·         │     ·  │        ·  │          ·         │\n",
       "│     0.0 │      0.0 │     0.0 │      0.0 │ … │  7.294647026361591 │    0.0 │       0.0 │  6.198582162414569 │\n",
       "│     0.0 │      0.0 │     0.0 │      0.0 │ … │  9.269129542805072 │    0.0 │       0.0 │ 1.9476982442207933 │\n",
       "│     0.0 │      0.0 │     0.0 │      0.0 │ … │ 4.2244359365126565 │    0.0 │       0.0 │  9.896665799353231 │\n",
       "│     0.0 │      0.0 │     0.0 │      0.0 │ … │                0.0 │    0.0 │       0.0 │ 4.5665961945031714 │\n",
       "│     0.0 │      0.0 │     0.0 │      0.0 │ … │  8.034721584707814 │    0.0 │       0.0 │  8.159164397115374 │\n",
       "│     0.0 │      0.0 │     0.0 │      0.0 │ … │ 17.603723376717507 │    0.0 │       0.0 │   4.97313080483335 │\n",
       "│     0.0 │      0.0 │     0.0 │      0.0 │ … │   9.63094550588814 │    0.0 │       0.0 │ 12.771433025842818 │\n",
       "│     0.0 │      0.0 │     0.0 │      0.0 │ … │ 1.8317074882447888 │    0.0 │       0.0 │  4.961751701873816 │\n",
       "│     0.0 │      0.0 │     0.0 │      0.0 │ … │  6.985718907427092 │    0.0 │       0.0 │ 3.8521976244396177 │\n",
       "│     0.0 │      0.0 │     0.0 │      0.0 │ … │ 5.8258436036811805 │    0.0 │       0.0 │ 13.293148915558906 │\n",
       "├─────────┴──────────┴─────────┴──────────┴───┴────────────────────┴────────┴───────────┴────────────────────┤\n",
       "│ 100 rows (20 shown)                                                                  796 columns (8 shown) │\n",
       "└────────────────────────────────────────────────────────────────────────────────────────────────────────────┘"
      ]
     },
     "execution_count": 58,
     "metadata": {},
     "output_type": "execute_result"
    }
   ],
   "source": [
    "sql = f\"SELECT * FROM read_parquet('{parquetFile}') LIMIT 100\"\n",
    "print(sql)\n",
    "duckdb.sql(sql)"
   ]
  }
 ],
 "metadata": {
  "kernelspec": {
   "display_name": ".venv",
   "language": "python",
   "name": "python3"
  },
  "language_info": {
   "codemirror_mode": {
    "name": "ipython",
    "version": 3
   },
   "file_extension": ".py",
   "mimetype": "text/x-python",
   "name": "python",
   "nbconvert_exporter": "python",
   "pygments_lexer": "ipython3",
   "version": "3.11.5"
  }
 },
 "nbformat": 4,
 "nbformat_minor": 2
}
